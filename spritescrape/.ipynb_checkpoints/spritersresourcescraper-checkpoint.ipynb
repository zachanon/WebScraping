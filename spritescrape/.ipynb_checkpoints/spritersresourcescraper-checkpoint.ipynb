{
 "cells": [
  {
   "cell_type": "code",
   "execution_count": 1,
   "metadata": {},
   "outputs": [],
   "source": [
    "from bs4 import BeautifulSoup\n",
    "import requests"
   ]
  },
  {
   "cell_type": "code",
   "execution_count": 2,
   "metadata": {},
   "outputs": [],
   "source": [
    "site=\"https://www.spriters-resource.com\"\n",
    "platform=\"game_boy_gbc\"\n",
    "game=\"pokemongoldsilver\"\n",
    "\n",
    "req = requests.get(site+\"/\"+platform+\"/\"+game+\"/\")  \n",
    "soup = BeautifulSoup(r.text,\"html.parser\")\n",
    "\n",
    "urls = []\n",
    "sheets = []\n",
    "\n",
    "for i in s.find_all(\"a\"):\n",
    "\n",
    "    href = i.attrs['href']\n",
    "    if \"sheet\" in href:\n",
    "        idx = href.index(\"sheet/\")\n",
    "        urls.append(\"https://www.spriters-resource.com/fullview/\"+href[idx+6:])\n",
    "        sheets.append(site+href[idx:])"
   ]
  },
  {
   "cell_type": "code",
   "execution_count": 3,
   "metadata": {},
   "outputs": [],
   "source": [
    "#urls\n",
    "#sheets"
   ]
  },
  {
   "cell_type": "code",
   "execution_count": null,
   "metadata": {},
   "outputs": [],
   "source": [
    "metadata = []\n",
    "\n",
    "for i in len(sheets):\n",
    "    r = requests.get(sheets[i])\n",
    "    s = BeautifulSoup(r.text,\"html.parser\")\n",
    "\n",
    "    category = [title.attrs['title'] for title in s.find_all(title=True)][6]\n",
    "    #print(cat)"
   ]
  },
  {
   "cell_type": "code",
   "execution_count": 19,
   "metadata": {},
   "outputs": [],
   "source": [
    "imgs = []\n",
    "\n",
    "for url in urls:\n",
    "    r = requests.get(url)\n",
    "    s = BeautifulSoup(r.text,\"html.parser\")\n",
    "    \n",
    "    img = s.find_all(\"img\")[2].attrs[\"src\"]\n",
    "    img = img[:img.index(\"?\")]\n",
    "    imgs.append(\"https://www.spriters-resource.com\" + img)"
   ]
  },
  {
   "cell_type": "code",
   "execution_count": 21,
   "metadata": {},
   "outputs": [],
   "source": [
    "#imgs"
   ]
  },
  {
   "cell_type": "code",
   "execution_count": 23,
   "metadata": {},
   "outputs": [],
   "source": [
    "import wget"
   ]
  },
  {
   "cell_type": "code",
   "execution_count": 25,
   "metadata": {},
   "outputs": [
    {
     "name": "stdout",
     "output_type": "stream",
     "text": [
      "Image Successfully Downloaded:  9084 (1)\n"
     ]
    }
   ],
   "source": [
    "image_filename = wget.download(imgs[0])\n",
    "\n",
    "print('Image Successfully Downloaded: ', image_filename[:image_filename.index(\".png\")])"
   ]
  },
  {
   "cell_type": "code",
   "execution_count": null,
   "metadata": {},
   "outputs": [],
   "source": []
  }
 ],
 "metadata": {
  "kernelspec": {
   "display_name": "Python 3",
   "language": "python",
   "name": "python3"
  },
  "language_info": {
   "codemirror_mode": {
    "name": "ipython",
    "version": 3
   },
   "file_extension": ".py",
   "mimetype": "text/x-python",
   "name": "python",
   "nbconvert_exporter": "python",
   "pygments_lexer": "ipython3",
   "version": "3.7.6"
  }
 },
 "nbformat": 4,
 "nbformat_minor": 4
}
