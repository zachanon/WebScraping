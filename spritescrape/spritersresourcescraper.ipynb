{
 "cells": [
  {
   "cell_type": "code",
   "execution_count": 1,
   "metadata": {},
   "outputs": [],
   "source": [
    "from os import system\n",
    "from time import sleep\n",
    "from bs4 import BeautifulSoup\n",
    "import requests\n",
    "import wget\n",
    "import json"
   ]
  },
  {
   "cell_type": "code",
   "execution_count": 2,
   "metadata": {},
   "outputs": [],
   "source": [
    "#populate some variables\n",
    "site=\"https://www.spriters-resource.com/\"\n",
    "\n",
    "try:\n",
    "    with open(\"completed_games.json\", \"r\") as file:\n",
    "        completed_games = json.load(file)\n",
    "except:\n",
    "    completed_games = {}\n",
    "    \n",
    "try:\n",
    "    with open(\"gamesdict.json\", \"r\") as file:\n",
    "        gamesdict = json.load(file)\n",
    "except:\n",
    "    gamesdict = {}"
   ]
  },
  {
   "cell_type": "code",
   "execution_count": 3,
   "metadata": {},
   "outputs": [],
   "source": [
    "#fill in more platforms here\n",
    "\n",
    "platforms = [\n",
    "    \"game_boy_gbc\",\n",
    "    \"game_boy_advance\",\n",
    "    \"nes\",\n",
    "    \"snes\"\n",
    "]"
   ]
  },
  {
   "cell_type": "markdown",
   "metadata": {},
   "source": [
    "### Loop to populate game titles for each platform chosen"
   ]
  },
  {
   "cell_type": "code",
   "execution_count": 4,
   "metadata": {},
   "outputs": [
    {
     "ename": "KeyboardInterrupt",
     "evalue": "",
     "output_type": "error",
     "traceback": [
      "\u001b[0;31m---------------------------------------------------------------------------\u001b[0m",
      "\u001b[0;31mKeyboardInterrupt\u001b[0m                         Traceback (most recent call last)",
      "\u001b[0;32m<ipython-input-4-637c501f6521>\u001b[0m in \u001b[0;36m<module>\u001b[0;34m\u001b[0m\n\u001b[1;32m     11\u001b[0m         \u001b[0msoup\u001b[0m \u001b[0;34m=\u001b[0m \u001b[0mBeautifulSoup\u001b[0m\u001b[0;34m(\u001b[0m\u001b[0mreq\u001b[0m\u001b[0;34m.\u001b[0m\u001b[0mtext\u001b[0m\u001b[0;34m,\u001b[0m \u001b[0;34m\"html.parser\"\u001b[0m\u001b[0;34m)\u001b[0m\u001b[0;34m\u001b[0m\u001b[0;34m\u001b[0m\u001b[0m\n\u001b[1;32m     12\u001b[0m \u001b[0;34m\u001b[0m\u001b[0m\n\u001b[0;32m---> 13\u001b[0;31m         \u001b[0msleep\u001b[0m\u001b[0;34m(\u001b[0m\u001b[0;36m0.5\u001b[0m\u001b[0;34m)\u001b[0m\u001b[0;34m\u001b[0m\u001b[0;34m\u001b[0m\u001b[0m\n\u001b[0m\u001b[1;32m     14\u001b[0m \u001b[0;34m\u001b[0m\u001b[0m\n\u001b[1;32m     15\u001b[0m         \u001b[0;32mfor\u001b[0m \u001b[0ma\u001b[0m \u001b[0;32min\u001b[0m \u001b[0msoup\u001b[0m\u001b[0;34m.\u001b[0m\u001b[0mfind_all\u001b[0m\u001b[0;34m(\u001b[0m\u001b[0;34m\"a\"\u001b[0m\u001b[0;34m)\u001b[0m\u001b[0;34m[\u001b[0m\u001b[0;36m185\u001b[0m\u001b[0;34m:\u001b[0m\u001b[0;34m]\u001b[0m\u001b[0;34m:\u001b[0m\u001b[0;34m\u001b[0m\u001b[0;34m\u001b[0m\u001b[0m\n",
      "\u001b[0;31mKeyboardInterrupt\u001b[0m: "
     ]
    }
   ],
   "source": [
    "alphabets = [\"0\"] + [chr(i) for i in range(65,91)]\n",
    "\n",
    "for platform in platforms:\n",
    "    \n",
    "    gamesdict[platform] = []\n",
    "    \n",
    "    for letter in alphabets:\n",
    "        \n",
    "        url = site + \"/\" + platform + \"/\" + letter + \".html\"\n",
    "        req = requests.get(url)\n",
    "        soup = BeautifulSoup(req.text, \"html.parser\")\n",
    "        \n",
    "        sleep(0.5)\n",
    "        \n",
    "        for a in soup.find_all(\"a\")[185:]:\n",
    "            href = a.attrs['href']\n",
    "            if(href.find(\"https\") >= 0):\n",
    "                break\n",
    "            \n",
    "            gamesdict[platform].append(href.split('/')[2])"
   ]
  },
  {
   "cell_type": "code",
   "execution_count": null,
   "metadata": {},
   "outputs": [],
   "source": [
    "with open(\"gamesdict.json\", \"w\") as file:\n",
    "    json.dump(gamesdict, file)"
   ]
  },
  {
   "cell_type": "markdown",
   "metadata": {},
   "source": [
    "### Loop to scrape populated platforms and game titles"
   ]
  },
  {
   "cell_type": "code",
   "execution_count": null,
   "metadata": {},
   "outputs": [
    {
     "name": "stdout",
     "output_type": "stream",
     "text": [
      "https://www.spriters-resource.com/game_boy_gbc/alien3/\n",
      "Image Successfully Downloaded:  spritesdata/game_boy_gbc/alien3/PlayableCharacters/122656 (1).png\n",
      "Image Successfully Downloaded:  spritesdata/game_boy_gbc/alien3/EnemiesBosses/122655 (1).png\n",
      "Image Successfully Downloaded:  spritesdata/game_boy_gbc/alien3/Tiles/122654.png\n",
      "Image Successfully Downloaded:  spritesdata/game_boy_gbc/alien3/Tiles/122653.png\n",
      "Image Successfully Downloaded:  spritesdata/game_boy_gbc/alien3/Tiles/122652.png\n",
      "Image Successfully Downloaded:  spritesdata/game_boy_gbc/alien3/Cutscenes/122647.png\n",
      "Image Successfully Downloaded:  spritesdata/game_boy_gbc/alien3/Cutscenes/122648.png\n",
      "Image Successfully Downloaded:  spritesdata/game_boy_gbc/alien3/Miscellaneous/122650.png\n",
      "Image Successfully Downloaded:  spritesdata/game_boy_gbc/alien3/Miscellaneous/122649.png\n",
      "Image Successfully Downloaded:  spritesdata/game_boy_gbc/alien3/Miscellaneous/122651.png\n",
      "Image Successfully Downloaded:  spritesdata/game_boy_gbc/alien3/Miscellaneous/122657.png\n",
      "https://www.spriters-resource.com/game_boy_gbc/allstartennis2000/\n",
      "Image Successfully Downloaded:  spritesdata/game_boy_gbc/allstartennis2000/Courts/144137.png\n",
      "Image Successfully Downloaded:  spritesdata/game_boy_gbc/allstartennis2000/Courts/144138.png\n",
      "Image Successfully Downloaded:  spritesdata/game_boy_gbc/allstartennis2000/Courts/144139.png\n",
      "Image Successfully Downloaded:  spritesdata/game_boy_gbc/allstartennis2000/Menus/144156.png\n",
      "https://www.spriters-resource.com/game_boy_gbc/alleyway/\n",
      "Image Successfully Downloaded:  spritesdata/game_boy_gbc/alleyway/Miscellaneous/60373.png\n",
      "https://www.spriters-resource.com/game_boy_gbc/amazingspiderman/\n",
      "Image Successfully Downloaded:  spritesdata/game_boy_gbc/amazingspiderman/PlayableCharacter/50533.png\n",
      "Image Successfully Downloaded:  spritesdata/game_boy_gbc/amazingspiderman/EnemiesBosses/50534.png\n",
      "https://www.spriters-resource.com/game_boy_gbc/theamazingspiderman3invasionofthespiderslayers/\n",
      "Image Successfully Downloaded:  spritesdata/game_boy_gbc/theamazingspiderman3invasionofthespiderslayers/PlayableCharacters/80689.png\n",
      "Image Successfully Downloaded:  spritesdata/game_boy_gbc/theamazingspiderman3invasionofthespiderslayers/Miscellaneous/80690.png\n",
      "https://www.spriters-resource.com/game_boy_gbc/animbreed/\n",
      "Image Successfully Downloaded:  spritesdata/game_boy_gbc/animbreed/Miscellaneous/2130.png\n",
      "Image Successfully Downloaded:  spritesdata/game_boy_gbc/animbreed/Miscellaneous/73396.png\n",
      "https://www.spriters-resource.com/game_boy_gbc/animbreed2/\n",
      "Image Successfully Downloaded:  spritesdata/game_boy_gbc/animbreed2/Miscellaneous/18956.png\n",
      "Image Successfully Downloaded:  spritesdata/game_boy_gbc/animbreed2/Miscellaneous/15371.png\n",
      "Image Successfully Downloaded:  spritesdata/game_boy_gbc/animbreed2/Miscellaneous/73395.png\n",
      "https://www.spriters-resource.com/game_boy_gbc/animbreed3/\n",
      "Image Successfully Downloaded:  spritesdata/game_boy_gbc/animbreed3/Miscellaneous/15374.png\n",
      "Image Successfully Downloaded:  spritesdata/game_boy_gbc/animbreed3/Miscellaneous/15373.png\n",
      "Image Successfully Downloaded:  spritesdata/game_boy_gbc/animbreed3/Miscellaneous/15372.png\n",
      "Image Successfully Downloaded:  spritesdata/game_boy_gbc/animbreed3/Miscellaneous/73387.png\n",
      "https://www.spriters-resource.com/game_boy_gbc/animbreed4/\n",
      "Image Successfully Downloaded:  spritesdata/game_boy_gbc/animbreed4/Animals/2112.png\n",
      "Image Successfully Downloaded:  spritesdata/game_boy_gbc/animbreed4/Animals/2172.png\n",
      "Image Successfully Downloaded:  spritesdata/game_boy_gbc/animbreed4/Animals/2113.png\n",
      "Image Successfully Downloaded:  spritesdata/game_boy_gbc/animbreed4/Animals/2114.png\n",
      "Image Successfully Downloaded:  spritesdata/game_boy_gbc/animbreed4/Animals/2115.png\n",
      "Image Successfully Downloaded:  spritesdata/game_boy_gbc/animbreed4/Animals/2116.png\n",
      "Image Successfully Downloaded:  spritesdata/game_boy_gbc/animbreed4/Animals/2117.png\n",
      "Image Successfully Downloaded:  spritesdata/game_boy_gbc/animbreed4/Animals/2118.png\n",
      "Image Successfully Downloaded:  spritesdata/game_boy_gbc/animbreed4/Animals/2119.png\n",
      "Image Successfully Downloaded:  spritesdata/game_boy_gbc/animbreed4/Animals/2120.png\n",
      "Image Successfully Downloaded:  spritesdata/game_boy_gbc/animbreed4/Animals/2121.png\n",
      "Image Successfully Downloaded:  spritesdata/game_boy_gbc/animbreed4/Animals/2122.png\n",
      "Image Successfully Downloaded:  spritesdata/game_boy_gbc/animbreed4/Animals/2123.png\n",
      "Image Successfully Downloaded:  spritesdata/game_boy_gbc/animbreed4/Animals/2124.png\n",
      "Image Successfully Downloaded:  spritesdata/game_boy_gbc/animbreed4/Animals/2126.png\n",
      "Image Successfully Downloaded:  spritesdata/game_boy_gbc/animbreed4/Animals/2125.png\n",
      "Image Successfully Downloaded:  spritesdata/game_boy_gbc/animbreed4/Animals/2128.png\n",
      "Image Successfully Downloaded:  spritesdata/game_boy_gbc/animbreed4/Animals/2127.png\n",
      "Image Successfully Downloaded:  spritesdata/game_boy_gbc/animbreed4/Animals/2129.png\n",
      "https://www.spriters-resource.com/game_boy_gbc/animaniacs/\n",
      "Image Successfully Downloaded:  spritesdata/game_boy_gbc/animaniacs/PlayableCharacters/44732.png\n",
      "Image Successfully Downloaded:  spritesdata/game_boy_gbc/animaniacs/Enemies/44733.png\n",
      "Image Successfully Downloaded:  spritesdata/game_boy_gbc/animaniacs/Miscellaneous/83616.png\n"
     ]
    }
   ],
   "source": [
    "site=\"https://www.spriters-resource.com/\"\n",
    "\n",
    "system(\"mkdir spritesdata\")\n",
    "\n",
    "for platform in gamesdict:\n",
    "    system(\"mkdir spritesdata/%s\" % (platform))\n",
    "    \n",
    "    try:\n",
    "        completed_games[platform]\n",
    "    except:\n",
    "        completed_games[platform] = []\n",
    "    \n",
    "    for game in gamesdict[platform]:\n",
    "        system(\"mkdir spritesdata/%s\" % (platform + \"/\" + game))\n",
    "        \n",
    "        if(game in completed_games[platform]):\n",
    "            continue\n",
    "        \n",
    "        url = site+platform+\"/\"+game+\"/\"\n",
    "        \n",
    "        req = requests.get(url)  \n",
    "        soup = BeautifulSoup(req.text,\"html.parser\")\n",
    "        \n",
    "        print(site+platform+\"/\"+game+\"/\")\n",
    "        \n",
    "        sheets = []\n",
    "        for i in soup.find_all(\"a\"):\n",
    "            href = i.attrs['href']\n",
    "            if \"sheet\" in href:\n",
    "                idx = href.index(\"sheet/\")\n",
    "                sheets.append(url+href[idx:])\n",
    "                \n",
    "        for sheet in sheets:\n",
    "            req = requests.get(sheet)\n",
    "            soup = BeautifulSoup(req.text, \"html.parser\")\n",
    "            \n",
    "            category = [title.attrs['title'] for title in soup.find_all(title=True)][6]\n",
    "            category = ''.join(filter(str.isalpha, category))\n",
    "            system(\"mkdir spritesdata/%s\" % (platform + \"/\" + game + \"/\" + category))\n",
    "\n",
    "            img = soup.find_all(\"img\")[16].attrs[\"src\"]\n",
    "            img = img[:img.index(\"?\")]        \n",
    "            imgname = img.split('/')[-1][:-4]\n",
    "            \n",
    "            sleep(0.5)\n",
    "            \n",
    "            image_filename = wget.download(site[:-1]+img, out=(\"spritesdata\" + \"/\" + platform + \"/\" + game + \"/\" + category))\n",
    "            print('Image Successfully Downloaded: ', image_filename)\n",
    "            \n",
    "            \n",
    "        completed_games[platform].append(game)"
   ]
  },
  {
   "cell_type": "code",
   "execution_count": 11,
   "metadata": {},
   "outputs": [],
   "source": [
    "with open(\"completed_games.json\", \"w\") as file:\n",
    "    json.dump(completed_games, file)"
   ]
  },
  {
   "cell_type": "code",
   "execution_count": 24,
   "metadata": {},
   "outputs": [],
   "source": [
    "s = category"
   ]
  },
  {
   "cell_type": "code",
   "execution_count": 25,
   "metadata": {},
   "outputs": [
    {
     "data": {
      "text/plain": [
       "'EnemiesBosses'"
      ]
     },
     "execution_count": 25,
     "metadata": {},
     "output_type": "execute_result"
    }
   ],
   "source": [
    "''.join(filter(str.isalpha, s))"
   ]
  },
  {
   "cell_type": "code",
   "execution_count": 27,
   "metadata": {},
   "outputs": [
    {
     "data": {
      "text/plain": [
       "{'game_boy_gbc': ['2003crash2advance',\n",
       "  '2003digitmonsapphirebootleg',\n",
       "  '3choumenotamatamaandfriends3choumeobakepanic',\n",
       "  '3dpocketpool',\n",
       "  '4in1funpak',\n",
       "  'theaddamsfamilypugsleysscavengerhunt',\n",
       "  'adventuresoflolo',\n",
       "  'adventuresofstarsaver',\n",
       "  'adventsmurfs',\n",
       "  'aladdin',\n",
       "  '2003crash2advance',\n",
       "  '2003digitmonsapphirebootleg',\n",
       "  '3choumenotamatamaandfriends3choumeobakepanic',\n",
       "  '3dpocketpool',\n",
       "  '4in1funpak',\n",
       "  'theaddamsfamilypugsleysscavengerhunt',\n",
       "  'adventuresoflolo',\n",
       "  'adventuresofstarsaver',\n",
       "  'adventsmurfs',\n",
       "  'aladdin',\n",
       "  'aladdingameboycolor',\n",
       "  'alicewonderland']}"
      ]
     },
     "execution_count": 27,
     "metadata": {},
     "output_type": "execute_result"
    }
   ],
   "source": []
  },
  {
   "cell_type": "code",
   "execution_count": null,
   "metadata": {},
   "outputs": [],
   "source": []
  }
 ],
 "metadata": {
  "kernelspec": {
   "display_name": "Python 3",
   "language": "python",
   "name": "python3"
  },
  "language_info": {
   "codemirror_mode": {
    "name": "ipython",
    "version": 3
   },
   "file_extension": ".py",
   "mimetype": "text/x-python",
   "name": "python",
   "nbconvert_exporter": "python",
   "pygments_lexer": "ipython3",
   "version": "3.7.6"
  }
 },
 "nbformat": 4,
 "nbformat_minor": 4
}
